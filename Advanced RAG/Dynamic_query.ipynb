{
  "cells": [
    {
      "cell_type": "markdown",
      "metadata": {},
      "source": [
        "<h2>Dynamic Query Engine Selection</h2>"
      ]
    },
    {
      "cell_type": "code",
      "execution_count": 1,
      "metadata": {
        "id": "fIoOrmIY7JSj"
      },
      "outputs": [],
      "source": [
        "import os\n",
        "\n",
        "from llama_index.core import VectorStoreIndex,ServiceContext\n",
        "from llama_index.core import KnowledgeGraphIndex, SimpleDirectoryReader\n",
        "from llama_index.core import StorageContext\n",
        "from llama_index.graph_stores.nebula import NebulaGraphStore\n",
        "from llama_index.llms.openai import OpenAI\n",
        "from llama_index.core import Settings\n",
        "from llama_index.core.graph_stores import SimpleGraphStore\n",
        "from llama_index.core.query_engine.router_query_engine import RouterQueryEngine\n",
        "from llama_index.core.selectors.llm_selectors import LLMSingleSelector\n",
        "from llama_index.core.indices.composability import ComposableGraph\n",
        "from llama_index.core.indices.keyword_table import GPTSimpleKeywordTableIndex\n",
        "\n",
        "\n",
        "from dotenv import load_dotenv\n",
        "from pathlib import Path\n",
        "import requests"
      ]
    },
    {
      "cell_type": "markdown",
      "metadata": {},
      "source": [
        "<h3>Setting up the Environment</h3>\n"
      ]
    },
    {
      "cell_type": "code",
      "execution_count": 2,
      "metadata": {},
      "outputs": [],
      "source": [
        "# Load variables from the .env file into environment variables\n",
        "dotenv_path = '.env'\n",
        "load_dotenv(dotenv_path)\n",
        "\n",
        "\n",
        "# Setting up LLM for Llama_index\n",
        "llm = OpenAI(temperature=0, model=\"gpt-3.5-turbo\")\n",
        "Settings.llm = llm\n",
        "Settings.chunk_size = 512"
      ]
    },
    {
      "cell_type": "markdown",
      "metadata": {},
      "source": [
        "<h3>Setup Nebula Graph Store</h3>"
      ]
    },
    {
      "cell_type": "code",
      "execution_count": 3,
      "metadata": {
        "colab": {
          "base_uri": "https://localhost:8080/"
        },
        "id": "UToknYF59H4y",
        "outputId": "7e5a5f45-2fa2-4876-debc-aba7834e5131"
      },
      "outputs": [],
      "source": [
        "\n",
        "space_name = \"paul_graham_essay\"\n",
        "edge_types, rel_prop_names = [\"relationship\"], [\n",
        "    \"relationship\"\n",
        "] \n",
        "tags = [\"entity\"] \n",
        "\n",
        "graph_store = NebulaGraphStore(\n",
        "    space_name=space_name,\n",
        "    edge_types=edge_types,\n",
        "    rel_prop_names=rel_prop_names,\n",
        "    tags=tags,\n",
        ")"
      ]
    },
    {
      "cell_type": "markdown",
      "metadata": {},
      "source": [
        "<h3>Getting data from Wikipidea into Text files</h3>"
      ]
    },
    {
      "cell_type": "code",
      "execution_count": 4,
      "metadata": {},
      "outputs": [],
      "source": [
        "wiki_titles = [\"Hyderabad\",\"Chennai\",\"Mumbai\",\"Delhi\"]\n",
        "\n",
        "for title in wiki_titles:\n",
        "    response = requests.get(\n",
        "        \"https://en.wikipedia.org/w/api.php\",\n",
        "        params={\n",
        "            \"action\": \"query\",\n",
        "            \"format\": \"json\",\n",
        "            \"titles\": title,\n",
        "            \"prop\": \"extracts\",\n",
        "            # 'exintro': True,\n",
        "            \"explaintext\": True,\n",
        "        },\n",
        "    ).json()\n",
        "    page = next(iter(response[\"query\"][\"pages\"].values()))\n",
        "    wiki_text = page[\"extract\"]\n",
        "\n",
        "    data_path = Path(\"data1\")\n",
        "    if not data_path.exists():\n",
        "        Path.mkdir(data_path)\n",
        "\n",
        "    with open(data_path / f\"{title}.txt\", \"w\",encoding=\"utf-8\") as fp:\n",
        "        fp.write(wiki_text)"
      ]
    },
    {
      "cell_type": "code",
      "execution_count": 5,
      "metadata": {},
      "outputs": [],
      "source": [
        "# Load all wiki documents\n",
        "city_docs = {}\n",
        "for wiki_title in wiki_titles:\n",
        "    city_docs[wiki_title] = SimpleDirectoryReader(\n",
        "        input_files=[f\"data1/{wiki_title}.txt\"]\n",
        "    ).load_data()"
      ]
    },
    {
      "cell_type": "markdown",
      "metadata": {},
      "source": [
        "<h3>Loading documents from local </h3>"
      ]
    },
    {
      "cell_type": "code",
      "execution_count": 6,
      "metadata": {},
      "outputs": [],
      "source": [
        "documents = SimpleDirectoryReader(\"data1\").load_data()"
      ]
    },
    {
      "cell_type": "markdown",
      "metadata": {},
      "source": [
        "<h3>Creating Graph Index </h3>"
      ]
    },
    {
      "cell_type": "code",
      "execution_count": 7,
      "metadata": {},
      "outputs": [],
      "source": [
        "storage_context = StorageContext.from_defaults(graph_store=graph_store)\n",
        "\n",
        "# NOTE: can take a while!\n",
        "index = KnowledgeGraphIndex.from_documents(\n",
        "    documents,\n",
        "    storage_context=storage_context,\n",
        "    max_triplets_per_chunk=2,\n",
        "    space_name=space_name,\n",
        "    edge_types=edge_types,\n",
        "    rel_prop_names=rel_prop_names,\n",
        "    tags=tags,\n",
        ")"
      ]
    },
    {
      "cell_type": "markdown",
      "metadata": {},
      "source": [
        "<h3>Querying with Graph Query Engine</h3>"
      ]
    },
    {
      "cell_type": "code",
      "execution_count": 8,
      "metadata": {},
      "outputs": [
        {
          "name": "stdout",
          "output_type": "stream",
          "text": [
            "Chennai has historical connections with Mumbai, including various aspects such as economic ties, cultural exchanges, and administrative relationships. The city has been a hub for diverse populations, literacy rates, art deco buildings, and notable landmarks. Additionally, Chennai has had significant interactions with Mumbai in terms of governance, transportation, and economic activities.\n"
          ]
        }
      ],
      "source": [
        "graph_query_engine = index.as_query_engine(\n",
        "    include_text=False, response_mode=\"tree_summarize\"\n",
        ")\n",
        "response = graph_query_engine.query(\n",
        "    \"What is History of Chennai?\",\n",
        ")\n",
        "print(response)"
      ]
    },
    {
      "cell_type": "code",
      "execution_count": 9,
      "metadata": {},
      "outputs": [
        {
          "name": "stderr",
          "output_type": "stream",
          "text": [
            "C:\\Users\\pathi\\AppData\\Local\\Temp\\ipykernel_26988\\2338715265.py:2: DeprecationWarning: Call to deprecated class method from_defaults. (ServiceContext is deprecated, please use `llama_index.settings.Settings` instead.) -- Deprecated since version 0.10.0.\n",
            "  service_context = ServiceContext.from_defaults(llm=llm_gpt3, chunk_size=1024)\n"
          ]
        },
        {
          "name": "stdout",
          "output_type": "stream",
          "text": [
            "Attractions in Hyderabad include the Charminar, Golconda Fort, Qutb Shahi tombs, Chowmahalla Palace, Falaknuma Palace, Purani Haveli, King Kothi Palace, Bella Vista Palace, Paigah Palace, Asman Garh Palace, Basheer Bagh Palace, Errum Manzil, Spanish Mosque, Salar Jung Museum, Telangana State Archaeology Museum, Nizam Museum, City Museum, and Birla Science Museum.\n"
          ]
        }
      ],
      "source": [
        "\n",
        "\n",
        "llm_gpt3 = OpenAI(temperature=0, model=\"gpt-3.5-turbo\")\n",
        "service_context = ServiceContext.from_defaults(llm=llm_gpt3, chunk_size=1024)\n",
        "\n",
        "# Build city document index\n",
        "vector_indices = {}\n",
        "for wiki_title in wiki_titles:\n",
        "    storage_context = StorageContext.from_defaults()\n",
        "    # build vector index\n",
        "    vector_indices[wiki_title] = VectorStoreIndex.from_documents(\n",
        "        city_docs[wiki_title],\n",
        "        service_context=service_context,\n",
        "        storage_context=storage_context,\n",
        "    )\n",
        "    # set id for vector index\n",
        "    vector_indices[wiki_title].index_struct.index_id = wiki_title\n",
        "    # persist to disk\n",
        "    storage_context.persist(persist_dir=f\"./storage/{wiki_title}\")\n",
        "\n",
        "\n",
        "response = (\n",
        "    vector_indices[\"Hyderabad\"]\n",
        "    .as_query_engine()\n",
        "    .query(\"What are the Attractions in Hyderabad?\")\n",
        ")\n",
        "print(str(response))"
      ]
    },
    {
      "cell_type": "markdown",
      "metadata": {},
      "source": [
        "<h3>Defining index Summaries</h3>"
      ]
    },
    {
      "cell_type": "code",
      "execution_count": 10,
      "metadata": {},
      "outputs": [],
      "source": [
        "index_summaries = {}\n",
        "for wiki_title in wiki_titles:\n",
        "    # set summary text for city\n",
        "    index_summaries[wiki_title] = (\n",
        "        f\"This content contains Wikipedia articles about {wiki_title}. \"\n",
        "        f\"Use this index if you need to lookup specific facts about {wiki_title}.\\n\"\n",
        "        \"Do not use this index if you want to analyze multiple Cities.\"\n",
        "    )"
      ]
    },
    {
      "cell_type": "code",
      "execution_count": 11,
      "metadata": {},
      "outputs": [
        {
          "data": {
            "text/plain": [
              "{'Hyderabad': 'This content contains Wikipedia articles about Hyderabad. Use this index if you need to lookup specific facts about Hyderabad.\\nDo not use this index if you want to analyze multiple Cities.',\n",
              " 'Chennai': 'This content contains Wikipedia articles about Chennai. Use this index if you need to lookup specific facts about Chennai.\\nDo not use this index if you want to analyze multiple Cities.',\n",
              " 'Mumbai': 'This content contains Wikipedia articles about Mumbai. Use this index if you need to lookup specific facts about Mumbai.\\nDo not use this index if you want to analyze multiple Cities.',\n",
              " 'Delhi': 'This content contains Wikipedia articles about Delhi. Use this index if you need to lookup specific facts about Delhi.\\nDo not use this index if you want to analyze multiple Cities.'}"
            ]
          },
          "execution_count": 11,
          "metadata": {},
          "output_type": "execute_result"
        }
      ],
      "source": [
        "index_summaries"
      ]
    },
    {
      "cell_type": "markdown",
      "metadata": {},
      "source": [
        "<h3>Generating Root Index from Composable Graph</h3>"
      ]
    },
    {
      "cell_type": "code",
      "execution_count": 12,
      "metadata": {},
      "outputs": [],
      "source": [
        "\n",
        "\n",
        "graph = ComposableGraph.from_indices(\n",
        "    GPTSimpleKeywordTableIndex,\n",
        "    [index for _, index in vector_indices.items()],\n",
        "    [summary for _, summary in index_summaries.items()],\n",
        "    max_keywords_per_chunk=50,\n",
        ")\n",
        "\n",
        "# get root index\n",
        "root_index = graph.get_index(graph.index_struct.index_id)\n",
        "root_index.set_index_id(\"compare_contrast\")\n",
        "\n",
        "root_summary = (\n",
        "    \"This index contains Wikipedia articles about multiple cities. \"\n",
        "    \"Use this index if you want to compare multiple cities. \"\n",
        ")"
      ]
    },
    {
      "cell_type": "markdown",
      "metadata": {},
      "source": [
        "<h3>Creating Router Query Engine</h3>"
      ]
    },
    {
      "cell_type": "code",
      "execution_count": 13,
      "metadata": {},
      "outputs": [],
      "source": [
        "from llama_index.core.tools.query_engine import QueryEngineTool\n",
        "\n",
        "query_engine_tools = []\n",
        "\n",
        "# add vector index tools\n",
        "for wiki_title in wiki_titles:\n",
        "    index = vector_indices[wiki_title]\n",
        "    summary = index_summaries[wiki_title]\n",
        "\n",
        "    query_engine = index.as_query_engine(service_context=service_context)\n",
        "    vector_tool = QueryEngineTool.from_defaults(\n",
        "        query_engine, description=summary\n",
        "    )\n",
        "    query_engine_tools.append(vector_tool)\n",
        "\n",
        "\n",
        "# add graph tool\n",
        "graph_description = (\n",
        "    \"This tool contains Wikipedia articles about multiple cities. \"\n",
        "    \"Use this tool if you want to compare multiple cities. \"\n",
        ")\n",
        "graph_tool = QueryEngineTool.from_defaults(\n",
        "    graph_query_engine, description=graph_description\n",
        ")\n",
        "query_engine_tools.append(graph_tool)"
      ]
    },
    {
      "cell_type": "code",
      "execution_count": 14,
      "metadata": {},
      "outputs": [],
      "source": [
        "\n",
        "\n",
        "router_query_engine = RouterQueryEngine(\n",
        "    selector=LLMSingleSelector.from_defaults(service_context=service_context),\n",
        "    query_engine_tools=query_engine_tools,\n",
        ")"
      ]
    },
    {
      "cell_type": "markdown",
      "metadata": {},
      "source": [
        "<h3>Querying with Router Query Engine</h3>"
      ]
    },
    {
      "cell_type": "code",
      "execution_count": 15,
      "metadata": {},
      "outputs": [
        {
          "name": "stdout",
          "output_type": "stream",
          "text": [
            "Chennai and Mumbai are both major cities in India with significant characteristics. Chennai is the capital of Tamil Nadu and is known for its diverse population, while Mumbai is the capital city of Maharashtra and serves as a major information technology hub. Chennai is governed by the Greater Chennai Corporation, whereas Mumbai is home to multiple chess grandmasters. Chennai has a tropical wet and dry climate, while Mumbai experiences a high internet usage rate. Both cities have extensive road networks and are connected by various relationships, showcasing their importance in different aspects such as governance, culture, and infrastructure.\n"
          ]
        }
      ],
      "source": [
        "# ask a compare/contrast question\n",
        "response = router_query_engine.query(\n",
        "    \"Compare and contrast the cities Chennai and Mumbai.\",\n",
        ")\n",
        "print(str(response))"
      ]
    },
    {
      "cell_type": "code",
      "execution_count": 17,
      "metadata": {},
      "outputs": [
        {
          "name": "stdout",
          "output_type": "stream",
          "text": [
            "Tholkappia Poonga, Semmoli Poonga, Madras Crocodile Bank, Arignar Anna Zoological Park, Guindy National Park, Marina Beach, Elliot's Beach, M.A. Chidambaram Stadium, Chemplast Cricket Ground, Jawaharlal Nehru Stadium, Mayor Radhakrishnan Stadium, Velachery Aquatic Complex, SDAT Tennis Stadium, Madras Boat Club, Royal Madras Yacht Club, Guindy Race Course, Cosmopolitan Club, Gymkhana Club, Madras Motor Race Track.\n"
          ]
        }
      ],
      "source": [
        "response = router_query_engine.query(\"List some of Places in Chennai.\")\n",
        "print(str(response))"
      ]
    },
    {
      "cell_type": "code",
      "execution_count": null,
      "metadata": {},
      "outputs": [],
      "source": []
    }
  ],
  "metadata": {
    "colab": {
      "provenance": []
    },
    "kernelspec": {
      "display_name": "Python 3",
      "name": "python3"
    },
    "language_info": {
      "codemirror_mode": {
        "name": "ipython",
        "version": 3
      },
      "file_extension": ".py",
      "mimetype": "text/x-python",
      "name": "python",
      "nbconvert_exporter": "python",
      "pygments_lexer": "ipython3",
      "version": "3.10.5"
    }
  },
  "nbformat": 4,
  "nbformat_minor": 0
}
